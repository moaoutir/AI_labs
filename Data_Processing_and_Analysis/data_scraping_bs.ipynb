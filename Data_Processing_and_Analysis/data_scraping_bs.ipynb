{
  "cells": [
    {
      "cell_type": "markdown",
      "metadata": {
        "id": "WG_SGidACLZ9"
      },
      "source": [
        "# Web Scraping with BeautifulSoup4 🕷️\n",
        "\n",
        "[![Open In Colab](https://colab.research.google.com/assets/colab-badge.svg)](https://colab.research.google.com/github/NouamaneTazi/hackai-challenges/blob/main/new_notebooks/data_scraping_bs4_goudma.ipynb)\n"
      ]
    },
    {
      "cell_type": "markdown",
      "metadata": {
        "id": "_AO2lQ9-m1pS"
      },
      "source": [
        "with Beautiful Soup we can:\n",
        "\n",
        "* Parsing: It takes messy HTML or XML code and transforms it into a structured, easily searchable format.\n",
        "* Navigation: You can easily move through the parsed document, finding specific elements like tags, attributes, and text.\n",
        "* Searching: Beautiful Soup provides tools to find elements based on their tags, attributes, or content.\n",
        "* Extraction: Once you've located the data you want, Beautiful Soup helps you extract it cleanly."
      ]
    },
    {
      "cell_type": "markdown",
      "metadata": {
        "id": "c4ytLvGToTUT"
      },
      "source": [
        "* install beautifulsoup with pip"
      ]
    },
    {
      "cell_type": "code",
      "execution_count": 1,
      "metadata": {
        "id": "NwvNYma2mYiK"
      },
      "outputs": [],
      "source": [
        "# install beautiful soup\n",
        "!pip install beautifulsoup4 -q"
      ]
    },
    {
      "cell_type": "markdown",
      "metadata": {
        "id": "vXMg4bcCoajJ"
      },
      "source": [
        "* to scrap any web page we will need also **requests** to send any type of http (get,post,put,delete) request to our target."
      ]
    },
    {
      "cell_type": "code",
      "execution_count": 2,
      "metadata": {
        "id": "YUacjMzzn4o6"
      },
      "outputs": [],
      "source": [
        "from bs4 import BeautifulSoup\n",
        "import requests #with requests we can to any http request (get,post,put,delete)"
      ]
    },
    {
      "cell_type": "markdown",
      "metadata": {
        "id": "8-OPugpeqKGK"
      },
      "source": [
        "* in our tutorial we will try to **scrap 6 post news** from https://www.goud.ma, as in the images below ..."
      ]
    },
    {
      "cell_type": "markdown",
      "metadata": {
        "id": "IivkXI3pELpm"
      },
      "source": [
        "<img src=\"https://postimage.me/images/2025/05/21/image64bb8496ae7ee101.png\"/>"
      ]
    },
    {
      "cell_type": "markdown",
      "metadata": {
        "id": "mUSSjdiOvNDj"
      },
      "source": [
        "* Before beginning our scraping first of all we need to analyze the HTML of our targeted website to extract which HTML object we will target.\n",
        "\n",
        "* as in the image below we will target the article object with the `´card´` class, then inside of it we will extract the href link to the content of the article, and we will repeat the same things with other articles."
      ]
    },
    {
      "cell_type": "markdown",
      "metadata": {
        "id": "KBouBG_zElsa"
      },
      "source": [
        "<img src=\"https://postimage.me/images/2025/05/21/image33fb9e13a118e192.png\"/>"
      ]
    },
    {
      "cell_type": "markdown",
      "metadata": {
        "id": "YZxQ3nsZt0h8"
      },
      "source": [
        "* to do what explained above, we need to follow the next steps:\n",
        "1. send a GET request to our target website.\n",
        "2. parse the response with bs4.\n",
        "3. extract the target HTML object we want using its HTML tag (name) in our case `article` and its class `card` or id."
      ]
    },
    {
      "cell_type": "code",
      "execution_count": 3,
      "metadata": {
        "colab": {
          "base_uri": "https://localhost:8080/"
        },
        "id": "HoPOQznttz7g",
        "outputId": "2140817b-4ba6-420f-f9b3-4a25ebcd50af"
      },
      "outputs": [
        {
          "name": "stdout",
          "output_type": "stream",
          "text": [
            "[INFO] Request is Valide\n"
          ]
        }
      ],
      "source": [
        "# 1.1 send get request\n",
        "target=\"https://www.goud.ma/topics/%d8%a7%d9%84%d8%b1%d8%a6%d9%8a%d8%b3%d9%8a%d8%a9/\"\n",
        "page=requests.get(target,headers={\"User-Agent\": \"XY\"})\n",
        "if page.reason==\"OK\":\n",
        "  print(\"[INFO] Request is Valide\")\n",
        "else:\n",
        "  print(\"[INFO] Request is not Valide\")"
      ]
    },
    {
      "cell_type": "code",
      "execution_count": 4,
      "metadata": {
        "colab": {
          "base_uri": "https://localhost:8080/"
        },
        "id": "sj_3967Is0BX",
        "outputId": "b683af2f-61e3-4206-a2fb-433caa33ff48"
      },
      "outputs": [
        {
          "name": "stdout",
          "output_type": "stream",
          "text": [
            "<!doctype html>\n",
            "<html class=\"no-js\" dir=\"rtl\" lang\n"
          ]
        }
      ],
      "source": [
        "# 1.2 extract html from the page\n",
        "page_html=page.text\n",
        "print(page_html[:50])"
      ]
    },
    {
      "cell_type": "code",
      "execution_count": 5,
      "metadata": {
        "id": "L3_MQbeqzJPC"
      },
      "outputs": [],
      "source": [
        "# 2. parse html with bs4\n",
        "page_soup=BeautifulSoup(page_html,\"html\")"
      ]
    },
    {
      "cell_type": "code",
      "execution_count": 6,
      "metadata": {
        "colab": {
          "base_uri": "https://localhost:8080/"
        },
        "collapsed": true,
        "id": "GHP8O2hOzo4F",
        "outputId": "11bd668c-74d3-492e-ddae-c825d37e9868"
      },
      "outputs": [
        {
          "data": {
            "text/plain": [
              "[<article class=\"card\" id=\"post-958127\">\n",
              " <header class=\"card-img-top\">\n",
              " <img alt=\"الناطق باسم الحكومة الموريتانية تجاهل إدانة البوليساريو كونها سبب ديال غلق نقطة “لبريگة” وها شنو قال على مقتل موريتانيين فالمنطقة العازلة\" class=\"gd-img img-fluid wp-post-image\" decoding=\"async\" height=\"365\" loading=\"lazy\" sizes=\"(max-width: 600px) 100vw, 600px\" src=\"https://sf.goud.ma/wp-content/uploads/2025/06/IMG_6395-600x365.jpeg\" srcset=\"https://sf.goud.ma/wp-content/uploads/2025/06/IMG_6395-600x365.jpeg 600w, https://sf.goud.ma/wp-content/uploads/2025/06/IMG_6395-832x506.jpeg 832w, https://sf.goud.ma/wp-content/uploads/2025/06/IMG_6395-768x467.jpeg 768w, https://sf.goud.ma/wp-content/uploads/2025/06/IMG_6395.jpeg 991w\" width=\"600\"/> </header>\n",
              " <div class=\"card-body\">\n",
              " <h2 class=\"card-title\"><a class=\"stretched-link\" href=\"https://www.goud.ma/%d8%a7%d9%84%d9%86%d8%a7%d8%b7%d9%82-%d8%a8%d8%a7%d8%b3%d9%85-%d8%a7%d9%84%d8%ad%d9%83%d9%88%d9%85%d8%a9-%d8%a7%d9%84%d9%85%d9%88%d8%b1%d9%8a%d8%aa%d8%a7%d9%86%d9%8a%d8%a9-%d8%aa%d8%ac%d8%a7%d9%87-958127/\">الناطق باسم الحكومة الموريتانية تجاهل إدانة البوليساريو كونها سبب ديال غلق نقطة “لبريگة” وها شنو قال على مقتل موريتانيين فالمنطقة العازلة</a></h2> <div class=\"card-infos\">\n",
              " <span class=\"card-post-cat text-primary\">\n",
              "         آش واقع      </span>\n",
              " <span class=\"card-post-date\">منذ 25 دقيقة</span>\n",
              " </div>\n",
              " </div>\n",
              " </article>,\n",
              " <article class=\"card\" id=\"post-958141\">\n",
              " <header class=\"card-img-top\">\n",
              " <img alt=\"الكاتب العام السابق للوداد رد على بلاغ تطوان ضد الودادي الهجهوج: الماط استنكرو الوطنية والانتماء الوطن حيث تقلقو ملي رضا مشى لميريكان يشجع ممثل المغرب\" class=\"gd-img img-fluid wp-post-image\" decoding=\"async\" height=\"400\" loading=\"lazy\" sizes=\"(max-width: 540px) 100vw, 540px\" src=\"https://sf.goud.ma/wp-content/uploads/2025/06/IMG_6400-540x400.jpeg\" srcset=\"https://sf.goud.ma/wp-content/uploads/2025/06/IMG_6400-540x400.jpeg 540w, https://sf.goud.ma/wp-content/uploads/2025/06/IMG_6400-683x506.jpeg 683w, https://sf.goud.ma/wp-content/uploads/2025/06/IMG_6400-768x569.jpeg 768w, https://sf.goud.ma/wp-content/uploads/2025/06/IMG_6400.jpeg 1080w\" width=\"540\"/> </header>\n",
              " <div class=\"card-body\">\n",
              " <h2 class=\"card-title\"><a class=\"stretched-link\" href=\"https://www.goud.ma/%d8%a7%d9%84%d9%83%d8%a7%d8%aa%d8%a8-%d8%a7%d9%84%d8%b9%d8%a7%d9%85-%d8%a7%d9%84%d8%b3%d8%a7%d8%a8%d9%82-%d9%84%d9%84%d9%88%d8%af%d8%a7%d8%af-%d8%b1%d8%af-%d8%b9%d9%84%d9%89-%d8%a8%d9%84%d8%a7%d8%ba-958141/\">الكاتب العام السابق للوداد رد على بلاغ تطوان ضد الودادي الهجهوج: الماط استنكرو الوطنية والانتماء الوطن حيث تقلقو ملي رضا مشى لميريكان يشجع ممثل المغرب</a></h2> <div class=\"card-infos\">\n",
              " <span class=\"card-post-cat text-primary\">\n",
              "         كود سبور      </span>\n",
              " <span class=\"card-post-date\">منذ 55 دقيقة</span>\n",
              " </div>\n",
              " </div>\n",
              " </article>,\n",
              " <article class=\"card\" id=\"post-958122\">\n",
              " <header class=\"card-img-top\">\n",
              " <img alt=\"عودة غياث للمكتب السياسي للأحرار.. قيادي إكس بامي رجع للواجهة: واش عندها علاقة بعودة المهاجري ؟\" class=\"gd-img img-fluid wp-post-image\" decoding=\"async\" height=\"400\" loading=\"lazy\" sizes=\"(max-width: 455px) 100vw, 455px\" src=\"https://sf.goud.ma/wp-content/uploads/2025/06/IMG_7765-455x400.jpeg\" srcset=\"https://sf.goud.ma/wp-content/uploads/2025/06/IMG_7765-455x400.jpeg 455w, https://sf.goud.ma/wp-content/uploads/2025/06/IMG_7765-576x506.jpeg 576w, https://sf.goud.ma/wp-content/uploads/2025/06/IMG_7765.jpeg 720w\" width=\"455\"/> </header>\n",
              " <div class=\"card-body\">\n",
              " <h2 class=\"card-title\"><a class=\"stretched-link\" href=\"https://www.goud.ma/%d8%b9%d9%88%d8%af%d8%a9-%d8%ba%d9%8a%d8%a7%d8%ab-%d9%84%d9%84%d9%85%d9%83%d8%aa%d8%a8-%d8%a7%d9%84%d8%b3%d9%8a%d8%a7%d8%b3%d9%8a-%d9%84%d9%84%d8%a3%d8%ad%d8%b1%d8%a7%d8%b1-%d9%82%d9%8a%d8%a7%d8%af-958122/\">عودة غياث للمكتب السياسي للأحرار.. قيادي إكس بامي رجع للواجهة: واش عندها علاقة بعودة المهاجري ؟</a></h2> <div class=\"card-infos\">\n",
              " <span class=\"card-post-cat text-primary\">\n",
              "         آش واقع      </span>\n",
              " <span class=\"card-post-date\">منذ 1 ساعة</span>\n",
              " </div>\n",
              " </div>\n",
              " </article>,\n",
              " <article class=\"card\" id=\"post-958123\">\n",
              " <header class=\"card-img-top\">\n",
              " <img alt=\"المغرب التطواني كاعيين حيث الهجهوج مشى ميريكان يشجع الوداد وغايعاقبوه\" class=\"gd-img img-fluid wp-post-image\" decoding=\"async\" height=\"400\" loading=\"lazy\" sizes=\"(max-width: 591px) 100vw, 591px\" src=\"https://sf.goud.ma/wp-content/uploads/2025/06/IMG_6394-591x400.jpeg\" srcset=\"https://sf.goud.ma/wp-content/uploads/2025/06/IMG_6394-591x400.jpeg 591w, https://sf.goud.ma/wp-content/uploads/2025/06/IMG_6394-748x506.jpeg 748w, https://sf.goud.ma/wp-content/uploads/2025/06/IMG_6394-768x519.jpeg 768w, https://sf.goud.ma/wp-content/uploads/2025/06/IMG_6394.jpeg 828w\" width=\"591\"/> </header>\n",
              " <div class=\"card-body\">\n",
              " <h2 class=\"card-title\"><a class=\"stretched-link\" href=\"https://www.goud.ma/%d8%a7%d9%84%d9%85%d8%ba%d8%b1%d8%a8-%d8%a7%d9%84%d8%aa%d8%b7%d9%88%d8%a7%d9%86%d9%8a-%d9%83%d8%a7%d8%b9%d9%8a%d9%8a%d9%86-%d8%ad%d9%8a%d8%ab-%d8%a7%d9%84%d9%87%d8%ac%d9%87%d9%88%d8%ac-%d9%85%d8%b4-958123/\">المغرب التطواني كاعيين حيث الهجهوج مشى ميريكان يشجع الوداد وغايعاقبوه</a></h2> <div class=\"card-infos\">\n",
              " <span class=\"card-post-cat text-primary\">\n",
              "         كود سبور      </span>\n",
              " <span class=\"card-post-date\">منذ 2 ساعتين</span>\n",
              " </div>\n",
              " </div>\n",
              " </article>,\n",
              " <article class=\"card\" id=\"post-958052\">\n",
              " <header class=\"card-img-top\">\n",
              " <img alt=\"المحامية الحقوقية براهمة لـ”كود”: دورية رئاسة النيابة العامة على حماية الموظفين معندها حتى ضرورة حيت كاين النص القانون وها كيفاش كنشوفها\" class=\"gd-img img-fluid wp-post-image\" decoding=\"async\" height=\"338\" loading=\"lazy\" sizes=\"(max-width: 600px) 100vw, 600px\" src=\"https://sf.goud.ma/wp-content/uploads/2025/06/IMG_6372-600x338.jpeg\" srcset=\"https://sf.goud.ma/wp-content/uploads/2025/06/IMG_6372-600x338.jpeg 600w, https://sf.goud.ma/wp-content/uploads/2025/06/IMG_6372.jpeg 624w\" width=\"600\"/> </header>\n",
              " <div class=\"card-body\">\n",
              " <h2 class=\"card-title\"><a class=\"stretched-link\" href=\"https://www.goud.ma/%d8%a7%d9%84%d9%85%d8%ad%d8%a7%d9%85%d9%8a%d8%a9-%d8%a7%d9%84%d8%ad%d9%82%d9%88%d9%82%d9%8a%d8%a9-%d8%a8%d8%b1%d8%a7%d9%87%d9%85%d8%a9-%d9%84%d9%80%d9%83%d9%88%d8%af-%d8%af%d9%88%d8%b1%d9%8a-958052/\">المحامية الحقوقية براهمة لـ”كود”: دورية رئاسة النيابة العامة على حماية الموظفين معندها حتى ضرورة حيت كاين النص القانون وها كيفاش كنشوفها</a></h2> <div class=\"card-infos\">\n",
              " <span class=\"card-post-cat text-primary\">\n",
              "         آش واقع      </span>\n",
              " <span class=\"card-post-date\">منذ 2 ساعتين</span>\n",
              " </div>\n",
              " </div>\n",
              " </article>,\n",
              " <article class=\"card\" id=\"post-957989\">\n",
              " <header class=\"card-img-top\">\n",
              " <img alt=\"كانو غادي يتهربو ويتباعو داخل المغرب.. بوليس سبتة حجز 1000 بورطابل مسجل ف الإمارات (صور)\" class=\"gd-img img-fluid wp-post-image\" decoding=\"async\" height=\"339\" loading=\"lazy\" sizes=\"(max-width: 600px) 100vw, 600px\" src=\"https://sf.goud.ma/wp-content/uploads/2025/06/teleph-portable.-1png-600x339.png\" srcset=\"https://sf.goud.ma/wp-content/uploads/2025/06/teleph-portable.-1png-600x339.png 600w, https://sf.goud.ma/wp-content/uploads/2025/06/teleph-portable.-1png-895x506.png 895w, https://sf.goud.ma/wp-content/uploads/2025/06/teleph-portable.-1png-768x434.png 768w, https://sf.goud.ma/wp-content/uploads/2025/06/teleph-portable.-1png.png 980w\" width=\"600\"/> </header>\n",
              " <div class=\"card-body\">\n",
              " <h2 class=\"card-title\"><a class=\"stretched-link\" href=\"https://www.goud.ma/%d9%83%d8%a7%d9%86%d8%aa-%d8%ba%d8%a7%d8%af%d9%8a-%d8%aa%d9%87%d8%b1%d8%a8-%d9%88%d8%aa%d8%a8%d8%a7%d8%b9-%d8%af%d8%a7%d8%ae%d9%84-%d8%a7%d9%84%d9%85%d8%ba%d8%b1%d8%a8-%d8%a8%d9%88%d9%84%d9%8a%d8%b3-957989/\">كانو غادي يتهربو ويتباعو داخل المغرب.. بوليس سبتة حجز 1000 بورطابل مسجل ف الإمارات (صور)</a></h2> <div class=\"card-infos\">\n",
              " <span class=\"card-post-cat text-primary\">\n",
              "         جورنالات بلادي      </span>\n",
              " <span class=\"card-post-date\">منذ 3 ساعات</span>\n",
              " </div>\n",
              " </div>\n",
              " </article>]"
            ]
          },
          "execution_count": 6,
          "metadata": {},
          "output_type": "execute_result"
        }
      ],
      "source": [
        "# 3. find article html object\n",
        "articles=page_soup.find_all(name=\"article\",class_=\"card\")[:6] # 6 articles\n",
        "articles"
      ]
    },
    {
      "cell_type": "markdown",
      "metadata": {
        "id": "SQJTRTgKE83Q"
      },
      "source": [
        "<img src=\"https://postimage.me/images/2025/05/21/image3d03e7083eac66fd.png\"/>"
      ]
    },
    {
      "cell_type": "markdown",
      "metadata": {
        "id": "AW2xCiaJ1pl7"
      },
      "source": [
        "* after finishing the first step, now we will move to extract the content of each article as in the image below.\n",
        "* to do this we need to extract the html object `a` with class `stretched-link` class from the articles above.\n",
        "* then extract `href` link"
      ]
    },
    {
      "cell_type": "code",
      "execution_count": 7,
      "metadata": {
        "colab": {
          "base_uri": "https://localhost:8080/"
        },
        "collapsed": true,
        "id": "1rxW-0dHoPZ1",
        "outputId": "29b5f11d-cb9c-4b29-f62d-ff8f71728b77"
      },
      "outputs": [
        {
          "data": {
            "text/plain": [
              "['https://www.goud.ma/%d8%a7%d9%84%d9%86%d8%a7%d8%b7%d9%82-%d8%a8%d8%a7%d8%b3%d9%85-%d8%a7%d9%84%d8%ad%d9%83%d9%88%d9%85%d8%a9-%d8%a7%d9%84%d9%85%d9%88%d8%b1%d9%8a%d8%aa%d8%a7%d9%86%d9%8a%d8%a9-%d8%aa%d8%ac%d8%a7%d9%87-958127/',\n",
              " 'https://www.goud.ma/%d8%a7%d9%84%d9%83%d8%a7%d8%aa%d8%a8-%d8%a7%d9%84%d8%b9%d8%a7%d9%85-%d8%a7%d9%84%d8%b3%d8%a7%d8%a8%d9%82-%d9%84%d9%84%d9%88%d8%af%d8%a7%d8%af-%d8%b1%d8%af-%d8%b9%d9%84%d9%89-%d8%a8%d9%84%d8%a7%d8%ba-958141/',\n",
              " 'https://www.goud.ma/%d8%b9%d9%88%d8%af%d8%a9-%d8%ba%d9%8a%d8%a7%d8%ab-%d9%84%d9%84%d9%85%d9%83%d8%aa%d8%a8-%d8%a7%d9%84%d8%b3%d9%8a%d8%a7%d8%b3%d9%8a-%d9%84%d9%84%d8%a3%d8%ad%d8%b1%d8%a7%d8%b1-%d9%82%d9%8a%d8%a7%d8%af-958122/',\n",
              " 'https://www.goud.ma/%d8%a7%d9%84%d9%85%d8%ba%d8%b1%d8%a8-%d8%a7%d9%84%d8%aa%d8%b7%d9%88%d8%a7%d9%86%d9%8a-%d9%83%d8%a7%d8%b9%d9%8a%d9%8a%d9%86-%d8%ad%d9%8a%d8%ab-%d8%a7%d9%84%d9%87%d8%ac%d9%87%d9%88%d8%ac-%d9%85%d8%b4-958123/',\n",
              " 'https://www.goud.ma/%d8%a7%d9%84%d9%85%d8%ad%d8%a7%d9%85%d9%8a%d8%a9-%d8%a7%d9%84%d8%ad%d9%82%d9%88%d9%82%d9%8a%d8%a9-%d8%a8%d8%b1%d8%a7%d9%87%d9%85%d8%a9-%d9%84%d9%80%d9%83%d9%88%d8%af-%d8%af%d9%88%d8%b1%d9%8a-958052/',\n",
              " 'https://www.goud.ma/%d9%83%d8%a7%d9%86%d8%aa-%d8%ba%d8%a7%d8%af%d9%8a-%d8%aa%d9%87%d8%b1%d8%a8-%d9%88%d8%aa%d8%a8%d8%a7%d8%b9-%d8%af%d8%a7%d8%ae%d9%84-%d8%a7%d9%84%d9%85%d8%ba%d8%b1%d8%a8-%d8%a8%d9%88%d9%84%d9%8a%d8%b3-957989/']"
            ]
          },
          "execution_count": 7,
          "metadata": {},
          "output_type": "execute_result"
        }
      ],
      "source": [
        "articles_links=[\n",
        "    article.find(\"a\",class_=\"stretched-link\"). # 1\n",
        "    get(\"href\") # 2\n",
        "    for article in articles]\n",
        "articles_links"
      ]
    },
    {
      "cell_type": "markdown",
      "metadata": {
        "id": "QEy6Nhj639yt"
      },
      "source": [
        "* After extracting each article link, now we will try to **extract helpful data from the article**, like `title`, `image`, and `content`.\n",
        "* we will follow the same steps as before.\n",
        "\n",
        "=> let's do it with one article link"
      ]
    },
    {
      "cell_type": "code",
      "execution_count": 8,
      "metadata": {
        "id": "YQIRlaVG3Slr"
      },
      "outputs": [],
      "source": [
        "# step 1\n",
        "link=articles_links[0]\n",
        "page0_html=requests.get(link,headers={\"User-Agent\": \"XY\"}).text\n",
        "page0_soup=BeautifulSoup(page0_html,\"html\")"
      ]
    },
    {
      "cell_type": "code",
      "execution_count": 9,
      "metadata": {
        "id": "UxcvZtYN6Ywb"
      },
      "outputs": [],
      "source": [
        "# step2\n",
        "page0_img=page0_soup.find(\"img\",class_=\"img-fluid wp-post-image\").get(\"src\")\n",
        "page0_title=page0_soup.find(\"h1\",class_=\"entry-title\").text\n",
        "page0_content=page0_soup.find(\"div\",class_=\"post-content\").text.strip()"
      ]
    },
    {
      "cell_type": "code",
      "execution_count": 10,
      "metadata": {
        "colab": {
          "base_uri": "https://localhost:8080/"
        },
        "id": "Dlbg4hf06vju",
        "outputId": "12e8b867-d175-4407-a9a1-2a1e6b806dd6"
      },
      "outputs": [
        {
          "name": "stdout",
          "output_type": "stream",
          "text": [
            "img src:\n",
            "https://sf.goud.ma/wp-content/uploads/2025/06/IMG_6395-832x506.jpeg\n",
            "title:\n",
            "الناطق باسم الحكومة الموريتانية تجاهل إدانة البوليساريو كونها سبب ديال غلق نقطة “لبريگة” وها شنو قال على مقتل موريتانيين فالمنطقة العازلة\n",
            "content:\n",
            "الوالي الزاز -كود- العيون////\n",
            "[email protected]\n",
            "علق وزير الثقافة والفنون والاتصالات والعلاقات مع البرلمان، الناطق باسم الحكومة الموريتانية، الحسين ولد مدو، على مسألة غلق موريتانيا لمعبر “لبريگة”،  وقضية مقتل مدنيين موريتانيين نتيجة لقصف مسيرة “درون” مغربية خلال حلوله ضيفا على برنامج “حوار” الذي تبثه قناة “فرانس24″ بالعربية.\n",
            "وتفادى الحسين ولد مدو التعليق بشكل مباشر وواضح على سؤال إغلاق النقطة الحدودية مع الجزائر، وما إذا كان ذلك ذلك بغرض إغلاق الباب قي وجه عناصر جبهة البوليساريو، متغاضيا عن ذكر جبهة البوليساريو، قائلا: ” أن تعزيز البُعد الأمني بالنسبة للمناطق الحدودية هو جزء من السياسة الموريتانية”، في إحالة على الغلق.\n",
            "وأضاف الناطق باسم الحكومة الموريتانية دون التطرق لأسباب الغلق المرتبطة بجبهة البوليساريو التي تحيل على إدانة عناصرها: “فتحت العديد من المنافذ من أجل تأمين العبور العادي بالنسبة للعابرين وفي المنطقة التي لا وجود لعابرين منها ولا قادمين فيها يمكن أن يعزز البُعد الأمني بما يكفله من تأمين الإنسيابية في مراكز العبور، ولكن كذلك من تجديد وتكثيف للأمن في المناطق فير المأهولة التي لا يُنتظر منها تدفق ولا إنسيابية لتجار البضائع ولا للأشخاص”.\n",
            "وجوابا على سؤال حول مقتل مدنيين موريتانيا في قصف لمسيرة مغربية في المنطقة العازلة وعدم وجود موقف موريتاني، أوضح وزير الثقافة والفنون والاتصالات والعلاقات مع البرلمان، الناطق باسم الحكومة الموريتانية، الحسين ولد مدو، أن موريتانيا “تعتبر أمن الموريتانيين أولوية الأولويات ونواجه إشكالات متعددة سواء مع المنقبين شمالا أو المنمين جنوبا”، مضيفا: “هذه المناطق المتوترة والتي تشهد توترات أمنية علينا أن نطلع بواجب تأمين المواطنين، ولكن تحسيسهم أيضا بأهمية الإبتعاد عن كل هذه المناطق التي تشكل بؤرا أمنية متوترة”، حاثا المعنيين بالأمر بالإبتعاد عنها، قائلا: “عمليات القتل تمت خارج الحدود الموريتانية سواء شمالا أو جنوبا “.\n"
          ]
        }
      ],
      "source": [
        "print(f\"img src:\\n{page0_img}\")\n",
        "print(f\"title:\\n{page0_title}\")\n",
        "print(f\"content:\\n{page0_content}\")"
      ]
    },
    {
      "cell_type": "code",
      "execution_count": 11,
      "metadata": {
        "id": "895z_7DI_ajx"
      },
      "outputs": [],
      "source": [
        "# if you want to save images in your local\n",
        "imgcontent=requests.get(page0_img).content\n",
        "with open(\"image.jpg\",\"wb\") as i:\n",
        "  i.write(imgcontent)"
      ]
    },
    {
      "cell_type": "code",
      "execution_count": 12,
      "metadata": {
        "colab": {
          "base_uri": "https://localhost:8080/"
        },
        "id": "pbc44wRe-bB1",
        "outputId": "7db61ee4-513a-4a6e-b8fb-c8c7abe1edf0"
      },
      "outputs": [
        {
          "name": "stderr",
          "output_type": "stream",
          "text": [
            "100%|██████████| 6/6 [00:00<00:00,  6.88it/s]\n"
          ]
        }
      ],
      "source": [
        "# repeat the same with other 6 articles\n",
        "from tqdm import tqdm\n",
        "data={\"titles\":[],\"content\":[],\"images\":[]}\n",
        "for link in tqdm(articles_links):\n",
        "  # step 1\n",
        "  pagei_html=requests.get(link,headers={\"User-Agent\": \"XY\"}).text\n",
        "  pagei_soup=BeautifulSoup(pagei_html,\"html\")\n",
        "  # step2\n",
        "  pagei_img=pagei_soup.find(\"img\",class_=\"img-fluid wp-post-image\").get(\"src\")\n",
        "  pagei_title=pagei_soup.find(\"h1\",class_=\"entry-title\").text\n",
        "  pagei_content=pagei_soup.find(\"div\",class_=\"post-content\").text.strip()\n",
        "  # save\n",
        "  data[\"titles\"].append(pagei_title)\n",
        "  data[\"content\"].append(pagei_content)\n",
        "  data[\"images\"].append(pagei_img)"
      ]
    },
    {
      "cell_type": "code",
      "execution_count": 13,
      "metadata": {
        "colab": {
          "base_uri": "https://localhost:8080/",
          "height": 237
        },
        "id": "ragUnpUMCNYl",
        "outputId": "32805413-0d17-42ca-cc67-018a7bb50825"
      },
      "outputs": [
        {
          "data": {
            "application/vnd.google.colaboratory.intrinsic+json": {
              "summary": "{\n  \"name\": \"df\",\n  \"rows\": 6,\n  \"fields\": [\n    {\n      \"column\": \"titles\",\n      \"properties\": {\n        \"dtype\": \"string\",\n        \"num_unique_values\": 6,\n        \"samples\": [\n          \"\\u0627\\u0644\\u0646\\u0627\\u0637\\u0642 \\u0628\\u0627\\u0633\\u0645 \\u0627\\u0644\\u062d\\u0643\\u0648\\u0645\\u0629 \\u0627\\u0644\\u0645\\u0648\\u0631\\u064a\\u062a\\u0627\\u0646\\u064a\\u0629 \\u062a\\u062c\\u0627\\u0647\\u0644 \\u0625\\u062f\\u0627\\u0646\\u0629 \\u0627\\u0644\\u0628\\u0648\\u0644\\u064a\\u0633\\u0627\\u0631\\u064a\\u0648 \\u0643\\u0648\\u0646\\u0647\\u0627 \\u0633\\u0628\\u0628 \\u062f\\u064a\\u0627\\u0644 \\u063a\\u0644\\u0642 \\u0646\\u0642\\u0637\\u0629 \\u201c\\u0644\\u0628\\u0631\\u064a\\u06af\\u0629\\u201d \\u0648\\u0647\\u0627 \\u0634\\u0646\\u0648 \\u0642\\u0627\\u0644 \\u0639\\u0644\\u0649 \\u0645\\u0642\\u062a\\u0644 \\u0645\\u0648\\u0631\\u064a\\u062a\\u0627\\u0646\\u064a\\u064a\\u0646 \\u0641\\u0627\\u0644\\u0645\\u0646\\u0637\\u0642\\u0629 \\u0627\\u0644\\u0639\\u0627\\u0632\\u0644\\u0629\",\n          \"\\u0627\\u0644\\u0643\\u0627\\u062a\\u0628 \\u0627\\u0644\\u0639\\u0627\\u0645 \\u0627\\u0644\\u0633\\u0627\\u0628\\u0642 \\u0644\\u0644\\u0648\\u062f\\u0627\\u062f \\u0631\\u062f \\u0639\\u0644\\u0649 \\u0628\\u0644\\u0627\\u063a \\u062a\\u0637\\u0648\\u0627\\u0646 \\u0636\\u062f \\u0627\\u0644\\u0648\\u062f\\u0627\\u062f\\u064a \\u0627\\u0644\\u0647\\u062c\\u0647\\u0648\\u062c: \\u0627\\u0644\\u0645\\u0627\\u0637 \\u0627\\u0633\\u062a\\u0646\\u0643\\u0631\\u0648 \\u0627\\u0644\\u0648\\u0637\\u0646\\u064a\\u0629 \\u0648\\u0627\\u0644\\u0627\\u0646\\u062a\\u0645\\u0627\\u0621 \\u0627\\u0644\\u0648\\u0637\\u0646 \\u062d\\u064a\\u062b \\u062a\\u0642\\u0644\\u0642\\u0648 \\u0645\\u0644\\u064a \\u0631\\u0636\\u0627 \\u0645\\u0634\\u0649 \\u0644\\u0645\\u064a\\u0631\\u064a\\u0643\\u0627\\u0646 \\u064a\\u0634\\u062c\\u0639 \\u0645\\u0645\\u062b\\u0644 \\u0627\\u0644\\u0645\\u063a\\u0631\\u0628\",\n          \"\\u0643\\u0627\\u0646\\u0648 \\u063a\\u0627\\u062f\\u064a \\u064a\\u062a\\u0647\\u0631\\u0628\\u0648 \\u0648\\u064a\\u062a\\u0628\\u0627\\u0639\\u0648 \\u062f\\u0627\\u062e\\u0644 \\u0627\\u0644\\u0645\\u063a\\u0631\\u0628.. \\u0628\\u0648\\u0644\\u064a\\u0633 \\u0633\\u0628\\u062a\\u0629 \\u062d\\u062c\\u0632 1000 \\u0628\\u0648\\u0631\\u0637\\u0627\\u0628\\u0644 \\u0645\\u0633\\u062c\\u0644 \\u0641 \\u0627\\u0644\\u0625\\u0645\\u0627\\u0631\\u0627\\u062a (\\u0635\\u0648\\u0631)\"\n        ],\n        \"semantic_type\": \"\",\n        \"description\": \"\"\n      }\n    },\n    {\n      \"column\": \"content\",\n      \"properties\": {\n        \"dtype\": \"string\",\n        \"num_unique_values\": 6,\n        \"samples\": [\n          \"\\u0627\\u0644\\u0648\\u0627\\u0644\\u064a \\u0627\\u0644\\u0632\\u0627\\u0632 -\\u0643\\u0648\\u062f- \\u0627\\u0644\\u0639\\u064a\\u0648\\u0646////\\n[email\\u00a0protected]\\n\\u0639\\u0644\\u0642\\u00a0\\u0648\\u0632\\u064a\\u0631 \\u0627\\u0644\\u062b\\u0642\\u0627\\u0641\\u0629 \\u0648\\u0627\\u0644\\u0641\\u0646\\u0648\\u0646 \\u0648\\u0627\\u0644\\u0627\\u062a\\u0635\\u0627\\u0644\\u0627\\u062a \\u0648\\u0627\\u0644\\u0639\\u0644\\u0627\\u0642\\u0627\\u062a \\u0645\\u0639 \\u0627\\u0644\\u0628\\u0631\\u0644\\u0645\\u0627\\u0646\\u060c \\u0627\\u0644\\u0646\\u0627\\u0637\\u0642 \\u0628\\u0627\\u0633\\u0645 \\u0627\\u0644\\u062d\\u0643\\u0648\\u0645\\u0629 \\u0627\\u0644\\u0645\\u0648\\u0631\\u064a\\u062a\\u0627\\u0646\\u064a\\u0629\\u060c \\u0627\\u0644\\u062d\\u0633\\u064a\\u0646 \\u0648\\u0644\\u062f \\u0645\\u062f\\u0648\\u060c \\u0639\\u0644\\u0649 \\u0645\\u0633\\u0623\\u0644\\u0629 \\u063a\\u0644\\u0642 \\u0645\\u0648\\u0631\\u064a\\u062a\\u0627\\u0646\\u064a\\u0627 \\u0644\\u0645\\u0639\\u0628\\u0631 \\u201c\\u0644\\u0628\\u0631\\u064a\\u06af\\u0629\\u201d\\u060c\\u00a0 \\u0648\\u0642\\u0636\\u064a\\u0629 \\u0645\\u0642\\u062a\\u0644 \\u0645\\u062f\\u0646\\u064a\\u064a\\u0646 \\u0645\\u0648\\u0631\\u064a\\u062a\\u0627\\u0646\\u064a\\u064a\\u0646 \\u0646\\u062a\\u064a\\u062c\\u0629 \\u0644\\u0642\\u0635\\u0641 \\u0645\\u0633\\u064a\\u0631\\u0629 \\u201c\\u062f\\u0631\\u0648\\u0646\\u201d \\u0645\\u063a\\u0631\\u0628\\u064a\\u0629 \\u062e\\u0644\\u0627\\u0644 \\u062d\\u0644\\u0648\\u0644\\u0647 \\u0636\\u064a\\u0641\\u0627 \\u0639\\u0644\\u0649 \\u0628\\u0631\\u0646\\u0627\\u0645\\u062c \\u201c\\u062d\\u0648\\u0627\\u0631\\u201d \\u0627\\u0644\\u0630\\u064a \\u062a\\u0628\\u062b\\u0647 \\u0642\\u0646\\u0627\\u0629 \\u201c\\u0641\\u0631\\u0627\\u0646\\u063324\\u2033 \\u0628\\u0627\\u0644\\u0639\\u0631\\u0628\\u064a\\u0629.\\n\\u0648\\u062a\\u0641\\u0627\\u062f\\u0649 \\u0627\\u0644\\u062d\\u0633\\u064a\\u0646 \\u0648\\u0644\\u062f \\u0645\\u062f\\u0648 \\u0627\\u0644\\u062a\\u0639\\u0644\\u064a\\u0642 \\u0628\\u0634\\u0643\\u0644 \\u0645\\u0628\\u0627\\u0634\\u0631 \\u0648\\u0648\\u0627\\u0636\\u062d \\u0639\\u0644\\u0649 \\u0633\\u0624\\u0627\\u0644 \\u0625\\u063a\\u0644\\u0627\\u0642 \\u0627\\u0644\\u0646\\u0642\\u0637\\u0629 \\u0627\\u0644\\u062d\\u062f\\u0648\\u062f\\u064a\\u0629 \\u0645\\u0639 \\u0627\\u0644\\u062c\\u0632\\u0627\\u0626\\u0631\\u060c \\u0648\\u0645\\u0627 \\u0625\\u0630\\u0627 \\u0643\\u0627\\u0646 \\u0630\\u0644\\u0643 \\u0630\\u0644\\u0643 \\u0628\\u063a\\u0631\\u0636 \\u0625\\u063a\\u0644\\u0627\\u0642 \\u0627\\u0644\\u0628\\u0627\\u0628 \\u0642\\u064a \\u0648\\u062c\\u0647 \\u0639\\u0646\\u0627\\u0635\\u0631 \\u062c\\u0628\\u0647\\u0629 \\u0627\\u0644\\u0628\\u0648\\u0644\\u064a\\u0633\\u0627\\u0631\\u064a\\u0648\\u060c \\u0645\\u062a\\u063a\\u0627\\u0636\\u064a\\u0627 \\u0639\\u0646 \\u0630\\u0643\\u0631 \\u062c\\u0628\\u0647\\u0629 \\u0627\\u0644\\u0628\\u0648\\u0644\\u064a\\u0633\\u0627\\u0631\\u064a\\u0648\\u060c \\u0642\\u0627\\u0626\\u0644\\u0627: \\u201d \\u0623\\u0646 \\u062a\\u0639\\u0632\\u064a\\u0632 \\u0627\\u0644\\u0628\\u064f\\u0639\\u062f \\u0627\\u0644\\u0623\\u0645\\u0646\\u064a \\u0628\\u0627\\u0644\\u0646\\u0633\\u0628\\u0629 \\u0644\\u0644\\u0645\\u0646\\u0627\\u0637\\u0642 \\u0627\\u0644\\u062d\\u062f\\u0648\\u062f\\u064a\\u0629 \\u0647\\u0648 \\u062c\\u0632\\u0621 \\u0645\\u0646 \\u0627\\u0644\\u0633\\u064a\\u0627\\u0633\\u0629 \\u0627\\u0644\\u0645\\u0648\\u0631\\u064a\\u062a\\u0627\\u0646\\u064a\\u0629\\u201d\\u060c \\u0641\\u064a \\u0625\\u062d\\u0627\\u0644\\u0629 \\u0639\\u0644\\u0649 \\u0627\\u0644\\u063a\\u0644\\u0642.\\n\\u0648\\u0623\\u0636\\u0627\\u0641 \\u0627\\u0644\\u0646\\u0627\\u0637\\u0642 \\u0628\\u0627\\u0633\\u0645 \\u0627\\u0644\\u062d\\u0643\\u0648\\u0645\\u0629 \\u0627\\u0644\\u0645\\u0648\\u0631\\u064a\\u062a\\u0627\\u0646\\u064a\\u0629 \\u062f\\u0648\\u0646 \\u0627\\u0644\\u062a\\u0637\\u0631\\u0642 \\u0644\\u0623\\u0633\\u0628\\u0627\\u0628 \\u0627\\u0644\\u063a\\u0644\\u0642 \\u0627\\u0644\\u0645\\u0631\\u062a\\u0628\\u0637\\u0629 \\u0628\\u062c\\u0628\\u0647\\u0629 \\u0627\\u0644\\u0628\\u0648\\u0644\\u064a\\u0633\\u0627\\u0631\\u064a\\u0648 \\u0627\\u0644\\u062a\\u064a \\u062a\\u062d\\u064a\\u0644 \\u0639\\u0644\\u0649 \\u0625\\u062f\\u0627\\u0646\\u0629 \\u0639\\u0646\\u0627\\u0635\\u0631\\u0647\\u0627: \\u201c\\u0641\\u062a\\u062d\\u062a \\u0627\\u0644\\u0639\\u062f\\u064a\\u062f \\u0645\\u0646 \\u0627\\u0644\\u0645\\u0646\\u0627\\u0641\\u0630 \\u0645\\u0646 \\u0623\\u062c\\u0644 \\u062a\\u0623\\u0645\\u064a\\u0646 \\u0627\\u0644\\u0639\\u0628\\u0648\\u0631 \\u0627\\u0644\\u0639\\u0627\\u062f\\u064a \\u0628\\u0627\\u0644\\u0646\\u0633\\u0628\\u0629 \\u0644\\u0644\\u0639\\u0627\\u0628\\u0631\\u064a\\u0646 \\u0648\\u0641\\u064a \\u0627\\u0644\\u0645\\u0646\\u0637\\u0642\\u0629 \\u0627\\u0644\\u062a\\u064a \\u0644\\u0627 \\u0648\\u062c\\u0648\\u062f \\u0644\\u0639\\u0627\\u0628\\u0631\\u064a\\u0646 \\u0645\\u0646\\u0647\\u0627 \\u0648\\u0644\\u0627 \\u0642\\u0627\\u062f\\u0645\\u064a\\u0646 \\u0641\\u064a\\u0647\\u0627 \\u064a\\u0645\\u0643\\u0646 \\u0623\\u0646 \\u064a\\u0639\\u0632\\u0632 \\u0627\\u0644\\u0628\\u064f\\u0639\\u062f \\u0627\\u0644\\u0623\\u0645\\u0646\\u064a \\u0628\\u0645\\u0627 \\u064a\\u0643\\u0641\\u0644\\u0647 \\u0645\\u0646 \\u062a\\u0623\\u0645\\u064a\\u0646 \\u0627\\u0644\\u0625\\u0646\\u0633\\u064a\\u0627\\u0628\\u064a\\u0629 \\u0641\\u064a \\u0645\\u0631\\u0627\\u0643\\u0632 \\u0627\\u0644\\u0639\\u0628\\u0648\\u0631\\u060c \\u0648\\u0644\\u0643\\u0646 \\u0643\\u0630\\u0644\\u0643 \\u0645\\u0646 \\u062a\\u062c\\u062f\\u064a\\u062f \\u0648\\u062a\\u0643\\u062b\\u064a\\u0641 \\u0644\\u0644\\u0623\\u0645\\u0646 \\u0641\\u064a \\u0627\\u0644\\u0645\\u0646\\u0627\\u0637\\u0642 \\u0641\\u064a\\u0631 \\u0627\\u0644\\u0645\\u0623\\u0647\\u0648\\u0644\\u0629 \\u0627\\u0644\\u062a\\u064a \\u0644\\u0627 \\u064a\\u064f\\u0646\\u062a\\u0638\\u0631 \\u0645\\u0646\\u0647\\u0627 \\u062a\\u062f\\u0641\\u0642 \\u0648\\u0644\\u0627 \\u0625\\u0646\\u0633\\u064a\\u0627\\u0628\\u064a\\u0629 \\u0644\\u062a\\u062c\\u0627\\u0631 \\u0627\\u0644\\u0628\\u0636\\u0627\\u0626\\u0639 \\u0648\\u0644\\u0627 \\u0644\\u0644\\u0623\\u0634\\u062e\\u0627\\u0635\\u201d.\\n\\u0648\\u062c\\u0648\\u0627\\u0628\\u0627 \\u0639\\u0644\\u0649 \\u0633\\u0624\\u0627\\u0644 \\u062d\\u0648\\u0644 \\u0645\\u0642\\u062a\\u0644 \\u0645\\u062f\\u0646\\u064a\\u064a\\u0646 \\u0645\\u0648\\u0631\\u064a\\u062a\\u0627\\u0646\\u064a\\u0627 \\u0641\\u064a \\u0642\\u0635\\u0641 \\u0644\\u0645\\u0633\\u064a\\u0631\\u0629 \\u0645\\u063a\\u0631\\u0628\\u064a\\u0629 \\u0641\\u064a \\u0627\\u0644\\u0645\\u0646\\u0637\\u0642\\u0629 \\u0627\\u0644\\u0639\\u0627\\u0632\\u0644\\u0629 \\u0648\\u0639\\u062f\\u0645 \\u0648\\u062c\\u0648\\u062f \\u0645\\u0648\\u0642\\u0641 \\u0645\\u0648\\u0631\\u064a\\u062a\\u0627\\u0646\\u064a\\u060c \\u0623\\u0648\\u0636\\u062d \\u0648\\u0632\\u064a\\u0631 \\u0627\\u0644\\u062b\\u0642\\u0627\\u0641\\u0629 \\u0648\\u0627\\u0644\\u0641\\u0646\\u0648\\u0646 \\u0648\\u0627\\u0644\\u0627\\u062a\\u0635\\u0627\\u0644\\u0627\\u062a \\u0648\\u0627\\u0644\\u0639\\u0644\\u0627\\u0642\\u0627\\u062a \\u0645\\u0639 \\u0627\\u0644\\u0628\\u0631\\u0644\\u0645\\u0627\\u0646\\u060c \\u0627\\u0644\\u0646\\u0627\\u0637\\u0642 \\u0628\\u0627\\u0633\\u0645 \\u0627\\u0644\\u062d\\u0643\\u0648\\u0645\\u0629 \\u0627\\u0644\\u0645\\u0648\\u0631\\u064a\\u062a\\u0627\\u0646\\u064a\\u0629\\u060c \\u0627\\u0644\\u062d\\u0633\\u064a\\u0646 \\u0648\\u0644\\u062f \\u0645\\u062f\\u0648\\u060c \\u0623\\u0646 \\u0645\\u0648\\u0631\\u064a\\u062a\\u0627\\u0646\\u064a\\u0627 \\u201c\\u062a\\u0639\\u062a\\u0628\\u0631 \\u0623\\u0645\\u0646 \\u0627\\u0644\\u0645\\u0648\\u0631\\u064a\\u062a\\u0627\\u0646\\u064a\\u064a\\u0646 \\u0623\\u0648\\u0644\\u0648\\u064a\\u0629 \\u0627\\u0644\\u0623\\u0648\\u0644\\u0648\\u064a\\u0627\\u062a \\u0648\\u0646\\u0648\\u0627\\u062c\\u0647 \\u0625\\u0634\\u0643\\u0627\\u0644\\u0627\\u062a \\u0645\\u062a\\u0639\\u062f\\u062f\\u0629 \\u0633\\u0648\\u0627\\u0621 \\u0645\\u0639 \\u0627\\u0644\\u0645\\u0646\\u0642\\u0628\\u064a\\u0646 \\u0634\\u0645\\u0627\\u0644\\u0627 \\u0623\\u0648 \\u0627\\u0644\\u0645\\u0646\\u0645\\u064a\\u0646 \\u062c\\u0646\\u0648\\u0628\\u0627\\u201d\\u060c \\u0645\\u0636\\u064a\\u0641\\u0627: \\u201c\\u0647\\u0630\\u0647 \\u0627\\u0644\\u0645\\u0646\\u0627\\u0637\\u0642 \\u0627\\u0644\\u0645\\u062a\\u0648\\u062a\\u0631\\u0629 \\u0648\\u0627\\u0644\\u062a\\u064a \\u062a\\u0634\\u0647\\u062f \\u062a\\u0648\\u062a\\u0631\\u0627\\u062a \\u0623\\u0645\\u0646\\u064a\\u0629 \\u0639\\u0644\\u064a\\u0646\\u0627 \\u0623\\u0646 \\u0646\\u0637\\u0644\\u0639 \\u0628\\u0648\\u0627\\u062c\\u0628 \\u062a\\u0623\\u0645\\u064a\\u0646 \\u0627\\u0644\\u0645\\u0648\\u0627\\u0637\\u0646\\u064a\\u0646\\u060c \\u0648\\u0644\\u0643\\u0646 \\u062a\\u062d\\u0633\\u064a\\u0633\\u0647\\u0645 \\u0623\\u064a\\u0636\\u0627 \\u0628\\u0623\\u0647\\u0645\\u064a\\u0629 \\u0627\\u0644\\u0625\\u0628\\u062a\\u0639\\u0627\\u062f \\u0639\\u0646 \\u0643\\u0644 \\u0647\\u0630\\u0647 \\u0627\\u0644\\u0645\\u0646\\u0627\\u0637\\u0642 \\u0627\\u0644\\u062a\\u064a \\u062a\\u0634\\u0643\\u0644 \\u0628\\u0624\\u0631\\u0627 \\u0623\\u0645\\u0646\\u064a\\u0629 \\u0645\\u062a\\u0648\\u062a\\u0631\\u0629\\u201d\\u060c \\u062d\\u0627\\u062b\\u0627 \\u0627\\u0644\\u0645\\u0639\\u0646\\u064a\\u064a\\u0646 \\u0628\\u0627\\u0644\\u0623\\u0645\\u0631 \\u0628\\u0627\\u0644\\u0625\\u0628\\u062a\\u0639\\u0627\\u062f \\u0639\\u0646\\u0647\\u0627\\u060c \\u0642\\u0627\\u0626\\u0644\\u0627: \\u201c\\u0639\\u0645\\u0644\\u064a\\u0627\\u062a \\u0627\\u0644\\u0642\\u062a\\u0644 \\u062a\\u0645\\u062a \\u062e\\u0627\\u0631\\u062c \\u0627\\u0644\\u062d\\u062f\\u0648\\u062f \\u0627\\u0644\\u0645\\u0648\\u0631\\u064a\\u062a\\u0627\\u0646\\u064a\\u0629 \\u0633\\u0648\\u0627\\u0621 \\u0634\\u0645\\u0627\\u0644\\u0627 \\u0623\\u0648 \\u062c\\u0646\\u0648\\u0628\\u0627 \\u201c.\",\n          \"\\u0643\\u0648\\u062f \\u0633\\u0628\\u0648\\u0631//\\n\\u0627\\u0646\\u062a\\u0642\\u062f \\u0627\\u0644\\u0643\\u0627\\u062a\\u0628 \\u0627\\u0644\\u0639\\u0627\\u0645 \\u0627\\u0644\\u0633\\u0627\\u0628\\u0642 \\u0644\\u0644\\u0648\\u062f\\u0627\\u062f \\u0627\\u0644\\u0631\\u064a\\u0627\\u0636\\u064a \\u0645\\u0647\\u062f\\u064a \\u0627\\u0644\\u0632\\u0648\\u0627\\u062a\\u060c \\u0627\\u0644\\u0637\\u0631\\u064a\\u0642\\u0629 \\u0627\\u0644\\u0644\\u064a \\u062a\\u0639\\u0627\\u0645\\u0644 \\u0628\\u0647\\u0627 \\u0646\\u0627\\u062f\\u064a \\u0627\\u0644\\u0645\\u063a\\u0631\\u0628 \\u0627\\u0644\\u062a\\u0637\\u0648\\u0627\\u0646\\u064a \\u0645\\u0639 \\u0627\\u0644\\u0644\\u0627\\u0639\\u0628 \\u0627\\u0644\\u0633\\u0627\\u0628\\u0642 \\u0644\\u0644\\u0641\\u0631\\u064a\\u0642 \\u0627\\u0644\\u0623\\u062d\\u0645\\u0631 \\u0631\\u0636\\u0627 \\u0627\\u0644\\u0647\\u062c\\u0647\\u0648\\u062c \\u062d\\u064a\\u062b \\u0645\\u0634\\u0649 \\u064a\\u0634\\u062c\\u0639 \\u0627\\u0644\\u0648\\u0627\\u0643 \\u0641\\u0645\\u064a\\u0631\\u064a\\u0643\\u0627\\u0646 \\u0641\\u0645\\u0648\\u0646\\u062f\\u064a\\u0627\\u0644 \\u0627\\u0644\\u0627\\u0646\\u062f\\u064a\\u0629.\\n\\u0648\\u0631\\u062f \\u0645\\u0647\\u062f\\u064a \\u0627\\u0644\\u0632\\u0648\\u0627\\u062a \\u0628\\u0642\\u0648\\u0629 \\u0639\\u0644\\u0649 \\u0628\\u0644\\u0627\\u063a \\u0627\\u0644\\u0645\\u063a\\u0631\\u0628 \\u0627\\u0644\\u062a\\u0637\\u0648\\u0627\\u0646\\u064a \\u0627\\u0644\\u0644\\u064a \\u0627\\u0639\\u062a\\u0628\\u0631\\u0648 \\u0627\\u0646 \\u0627\\u0644\\u0648\\u062f\\u0627\\u062f \\u0627\\u0644\\u0631\\u064a\\u0627\\u0636\\u064a \\u0627\\u0644\\u0644\\u064a \\u0645\\u0634\\u0627\\u0631\\u0643 \\u0641\\u0643\\u0627\\u0633 \\u0627\\u0644\\u0639\\u0627\\u0644\\u0645 \\u0644\\u0644\\u0627\\u0646\\u062f\\u064a\\u0629 \\u0641\\u0631\\u064a\\u0642 \\u0645\\u0646\\u0627\\u0641\\u0633 \\u0648\\u0645\\u0627 \\u062e\\u0627\\u0635\\u0648\\u0634 \\u064a\\u0634\\u062c\\u0639\\u0648\\u060c \\u0648\\u0642\\u0627\\u0644 \\u0627\\u0644\\u0643\\u0627\\u062a\\u0628 \\u0627\\u0644\\u0639\\u0627\\u0645 \\u0627\\u0644\\u0639\\u0627\\u0645 \\u0627\\u0644\\u0633\\u0627\\u0628\\u0642 \\u0644\\u0644\\u0648\\u062f\\u0627\\u062f \\u0648\\u0627\\u0644\\u0645\\u0646\\u062e\\u0631\\u0637 \\u0627\\u0644\\u0648\\u062f\\u0627\\u062f\\u064a \\u0641\\u062a\\u062f\\u0648\\u064a\\u0646\\u0629 \\u0644\\u0647: \\u201c\\u0644\\u0627 \\u064a\\u0648\\u062c\\u062f \\u0641\\u064a \\u0623\\u064a \\u0642\\u0627\\u0646\\u0648\\u0646 \\u0645\\u0646 \\u0642\\u0648\\u0627\\u0646\\u064a\\u0646 \\u0627\\u0644\\u0641\\u064a\\u0641\\u0627 \\u0623\\u0648 \\u0627\\u0644\\u0643\\u0627\\u0641 \\u0623\\u0648 \\u0627\\u0644\\u062c\\u0627\\u0645\\u0639\\u0629 \\u0627\\u0644\\u0645\\u0644\\u0643\\u064a\\u0629 \\u0627\\u0644\\u0645\\u063a\\u0631\\u0628\\u064a\\u0629 \\u0645\\u0627 \\u064a\\u0645\\u0646\\u0639 \\u0644\\u0627\\u0639\\u0628\\u064b\\u0627 \\u0645\\u0646 \\u062a\\u0634\\u062c\\u064a\\u0639 \\u0641\\u0631\\u064a\\u0642 \\u0622\\u062e\\u0631\\u060c \\u062e\\u0635\\u0648\\u0635\\u064b\\u0627 \\u0625\\u0630\\u0627 \\u0643\\u0627\\u0646 \\u0647\\u0630\\u0627 \\u0627\\u0644\\u0641\\u0631\\u064a\\u0642 \\u064a\\u0645\\u062b\\u0644 \\u0627\\u0644\\u0645\\u063a\\u0631\\u0628 \\u0641\\u064a \\u0645\\u062d\\u0641\\u0644 \\u062f\\u0648\\u0644\\u064a. \\u0645\\u0627 \\u0642\\u0627\\u0645 \\u0628\\u0647 \\u0631\\u0636\\u0627 \\u0627\\u0644\\u0647\\u062c\\u0647\\u0648\\u062c \\u0644\\u064a\\u0633 \\u062e\\u0631\\u0642\\u064b\\u0627 \\u0648\\u0644\\u0627 \\u062e\\u0637\\u0623\\u060c \\u0628\\u0644 \\u062a\\u0639\\u0628\\u064a\\u0631 \\u0639\\u0646 \\u0627\\u0646\\u062a\\u0645\\u0627\\u0621 \\u0648\\u0637\\u0646\\u064a \\u0635\\u0627\\u062f\\u0642\\u060c \\u064a\\u0646\\u0645 \\u0639\\u0644\\u0649 \\u0623\\u0646\\u0647 \\u062a\\u0644\\u0642\\u0649 \\u0641\\u064a \\u0635\\u063a\\u0631\\u0647 (\\u0639\\u0627\\u0626\\u0644\\u062a\\u0647 \\u0627\\u0644\\u0628\\u064a\\u0648\\u0644\\u0648\\u062c\\u064a\\u0629 \\u0648\\u0627\\u0644\\u0631\\u064a\\u0627\\u0636\\u064a\\u0629) \\u062a\\u0631\\u0628\\u064a\\u0629 \\u0648\\u0637\\u0646\\u064a\\u0629 \\u062a\\u0633\\u062a\\u062d\\u0642 \\u0627\\u0644\\u062a\\u0646\\u0648\\u064a\\u0647\\u201d.\\n\\u0648\\u0643\\u0645\\u0644 \\u0645\\u0647\\u062f\\u064a \\u0627\\u0644\\u0632\\u0648\\u0627\\u062a \\u0648\\u0642\\u0627\\u0644: \\u201c\\u0627\\u0644\\u0645\\u062b\\u064a\\u0631 \\u0644\\u0644\\u062f\\u0647\\u0634\\u0629 \\u0648\\u0627\\u0644\\u0627\\u0633\\u062a\\u063a\\u0631\\u0627\\u0628 \\u062d\\u0642\\u064b\\u0627 \\u0644\\u064a\\u0633 \\u062d\\u0636\\u0648\\u0631\\u0647 \\u0644\\u062f\\u0639\\u0645 \\u0627\\u0644\\u0648\\u062f\\u0627\\u062f\\u060c \\u0628\\u0644 \\u0633\\u0644\\u0648\\u0643 \\u0625\\u062f\\u0627\\u0631\\u0629 \\u0627\\u0644\\u0645\\u063a\\u0631\\u0628 \\u0627\\u0644\\u062a\\u0637\\u0648\\u0627\\u0646\\u064a \\u0627\\u0644\\u062a\\u064a \\u0627\\u062e\\u062a\\u0627\\u0631\\u062a \\u0623\\u0646 \\u062a\\u064f\\u0635\\u062f\\u0631 \\u0628\\u0644\\u0627\\u063a\\u064b\\u0627 \\u0623\\u0639\\u062a\\u0628\\u0631\\u0647 \\u0634\\u062e\\u0635\\u064a\\u0627 \\u0623\\u0646\\u0647 \\u0628\\u0644\\u0627\\u063a \\u062a\\u0633\\u062a\\u0646\\u0643\\u0631 \\u0641\\u064a\\u0647 \\u0627\\u0644\\u0648\\u0637\\u0646\\u064a\\u0629 \\u0648\\u0627\\u0644\\u0627\\u0646\\u062a\\u0645\\u0627\\u0621 \\u0644\\u0644\\u0648\\u0637\\u0646\\u201d.\",\n          \"\\u0643\\u0648\\u062f \\u2013 \\u0643\\u0627\\u0632\\u0627 ///\\n\\u0642\\u0627\\u0644 \\u0645\\u0648\\u0642\\u0639 \\u0631\\u0627\\u062f\\u064a\\u0648 \\u0648\\u062a\\u0644\\u0641\\u0632\\u064a\\u0648\\u0646 \\u0633\\u0628\\u062a\\u0629\\u060c \\u0625\\u0646 \\u0627\\u0644\\u0634\\u0631\\u0637\\u0629 \\u0627\\u0644\\u0645\\u062d\\u0644\\u064a\\u0629 \\u0628\\u0627\\u0644\\u0645\\u062f\\u064a\\u0646\\u0629 \\u062a\\u0645\\u0643\\u0646\\u0627\\u062a\\u060c \\u0646\\u0647\\u0627\\u0631 \\u0627\\u0644\\u0627\\u0631\\u0628\\u0639\\u0627\\u060c \\u0645\\u0646 \\u0636\\u0628\\u0637 \\u0646\\u062d\\u0648 \\u0623\\u0644\\u0641 \\u0628\\u0648\\u0631\\u0637\\u0627\\u0628\\u0644\\u060c \\u0642\\u0628\\u0644 \\u062a\\u0647\\u0631\\u064a\\u0628\\u0647\\u0627 \\u0625\\u0644\\u0649 \\u0627\\u0644\\u0645\\u063a\\u0631\\u0628 \\u0645\\u0646 \\u0623\\u062c\\u0644 \\u0628\\u064a\\u0639\\u0647\\u0627.\\n\\u0648\\u062d\\u0633\\u0628 \\u0627\\u0644\\u0645\\u0635\\u062f\\u0631 \\u0630\\u0627\\u062a\\u0647\\u060c \\u062a\\u0645\\u0627\\u062a \\u0627\\u0644\\u0639\\u0645\\u0644\\u064a\\u0629 \\u0645\\u0646 \\u0637\\u0631\\u0641 \\u0648\\u062d\\u062f\\u0629 \\u0627\\u0644\\u062a\\u062f\\u062e\\u0644 \\u0627\\u0644\\u0633\\u0631\\u064a\\u0639 \\u0627\\u0644\\u0644\\u064a \\u0636\\u0628\\u0637\\u0627\\u062a 973 \\u0647\\u0627\\u062a\\u0641 \\u0645\\u062d\\u0645\\u0648\\u0644 \\u0645\\u0646 \\u0646\\u0648\\u0639 \\u0633\\u0627\\u0645\\u0633\\u0648\\u0646\\u06af\\u060c \\u062e\\u0644\\u0627\\u0644 \\u0639\\u0645\\u0644\\u064a\\u0629 \\u062a\\u0641\\u062a\\u064a\\u0634 \\u0631\\u0648\\u062a\\u064a\\u0646\\u064a\\u0629 \\u0644\\u0644\\u0645\\u0631\\u0643\\u0628\\u0627\\u062a.\\n\\n\\u0627\\u0644\\u0634\\u064a\\u0641\\u0648\\u0631 \\u0645\\u063a\\u0631\\u0628\\u064a \\u0645\\u0642\\u064a\\u0645 \\u0641 \\u0633\\u0628\\u062a\\u0629 \\u0645\\u0627 \\u0642\\u062f\\u0631\\u0634 \\u064a\\u0642\\u062f\\u0645 \\u0648\\u062b\\u0627\\u0626\\u0642 \\u062a\\u062b\\u0628\\u062a \\u0645\\u0644\\u0643\\u064a\\u0629 \\u0623\\u0648 \\u0645\\u0635\\u062f\\u0631 \\u0627\\u0644\\u0628\\u0648\\u0631\\u0637\\u0627\\u0628\\u0644\\u0627\\u062a \\u0627\\u0644\\u0644\\u064a \\u062a\\u0628\\u064a\\u0646 \\u0623\\u0646 \\u0623\\u0631\\u0642\\u0627\\u0645 IMEI \\u0645\\u0633\\u062c\\u0644\\u0629 \\u0641\\u064a \\u0623\\u0628\\u0648 \\u0638\\u0628\\u064a \\u0648\\u0643\\u0627\\u0646\\u062a \\u0645\\u062e\\u0635\\u0635\\u0629 \\u0644\\u0644\\u0628\\u064a\\u0639 \\u0641 \\u0627\\u0644\\u0645\\u063a\\u0631\\u0628.\\n\\u0648\\u062a\\u0645 \\u062d\\u062c\\u0632 \\u0627\\u0644\\u0637\\u0648\\u0645\\u0648\\u0628\\u064a\\u0644 \\u0648\\u0646\\u0642\\u0644\\u0647\\u0627 \\u0625\\u0644\\u0649 \\u0645\\u0642\\u0631 \\u0627\\u0644\\u0634\\u0631\\u0637\\u0629. \\u0643\\u0645\\u0627 \\u062a\\u0645 \\u062a\\u0633\\u062c\\u064a\\u0644 \\u0625\\u0641\\u0627\\u062f\\u0629 \\u0627\\u0644\\u0633\\u0627\\u0626\\u0642\\u060c \\u0627\\u0644\\u0644\\u064a \\u0627\\u0639\\u062a\\u0627\\u0631\\u0641 \\u0628\\u0639\\u062f\\u0645 \\u0648\\u062c\\u0648\\u062f \\u0623\\u064a \\u0641\\u0627\\u062a\\u0648\\u0631\\u0629 \\u0623\\u0648 \\u0625\\u064a\\u0635\\u0627\\u0644 \\u0627\\u0633\\u062a\\u064a\\u0631\\u0627\\u062f \\u0639\\u0646\\u062f\\u0648..\"\n        ],\n        \"semantic_type\": \"\",\n        \"description\": \"\"\n      }\n    },\n    {\n      \"column\": \"images\",\n      \"properties\": {\n        \"dtype\": \"string\",\n        \"num_unique_values\": 6,\n        \"samples\": [\n          \"https://sf.goud.ma/wp-content/uploads/2025/06/IMG_6395-832x506.jpeg\",\n          \"https://sf.goud.ma/wp-content/uploads/2025/06/IMG_6400-683x506.jpeg\",\n          \"https://sf.goud.ma/wp-content/uploads/2025/06/teleph-portable.-1png-895x506.png\"\n        ],\n        \"semantic_type\": \"\",\n        \"description\": \"\"\n      }\n    }\n  ]\n}",
              "type": "dataframe",
              "variable_name": "df"
            },
            "text/html": [
              "\n",
              "  <div id=\"df-007d41ed-2cb2-48c2-ab20-e255f0eaea7e\" class=\"colab-df-container\">\n",
              "    <div>\n",
              "<style scoped>\n",
              "    .dataframe tbody tr th:only-of-type {\n",
              "        vertical-align: middle;\n",
              "    }\n",
              "\n",
              "    .dataframe tbody tr th {\n",
              "        vertical-align: top;\n",
              "    }\n",
              "\n",
              "    .dataframe thead th {\n",
              "        text-align: right;\n",
              "    }\n",
              "</style>\n",
              "<table border=\"1\" class=\"dataframe\">\n",
              "  <thead>\n",
              "    <tr style=\"text-align: right;\">\n",
              "      <th></th>\n",
              "      <th>titles</th>\n",
              "      <th>content</th>\n",
              "      <th>images</th>\n",
              "    </tr>\n",
              "  </thead>\n",
              "  <tbody>\n",
              "    <tr>\n",
              "      <th>0</th>\n",
              "      <td>الناطق باسم الحكومة الموريتانية تجاهل إدانة ال...</td>\n",
              "      <td>الوالي الزاز -كود- العيون////\\n[email protecte...</td>\n",
              "      <td>https://sf.goud.ma/wp-content/uploads/2025/06/...</td>\n",
              "    </tr>\n",
              "    <tr>\n",
              "      <th>1</th>\n",
              "      <td>الكاتب العام السابق للوداد رد على بلاغ تطوان ض...</td>\n",
              "      <td>كود سبور//\\nانتقد الكاتب العام السابق للوداد ا...</td>\n",
              "      <td>https://sf.goud.ma/wp-content/uploads/2025/06/...</td>\n",
              "    </tr>\n",
              "    <tr>\n",
              "      <th>2</th>\n",
              "      <td>عودة غياث للمكتب السياسي للأحرار.. قيادي إكس ب...</td>\n",
              "      <td>كود الرباط //\\nعلمت “كود” من مصادر موثوقة أن م...</td>\n",
              "      <td>https://sf.goud.ma/wp-content/uploads/2025/06/...</td>\n",
              "    </tr>\n",
              "    <tr>\n",
              "      <th>3</th>\n",
              "      <td>المغرب التطواني كاعيين حيث الهجهوج مشى ميريكان...</td>\n",
              "      <td>كود سبور//\\nكاعيين المغرب التطواني على لاعب ال...</td>\n",
              "      <td>https://sf.goud.ma/wp-content/uploads/2025/06/...</td>\n",
              "    </tr>\n",
              "    <tr>\n",
              "      <th>4</th>\n",
              "      <td>المحامية الحقوقية براهمة لـ”كود”: دورية رئاسة ...</td>\n",
              "      <td>سعيد الشاوي – كود ///\\nصيفط هشام بلاوي، الوكيل...</td>\n",
              "      <td>https://sf.goud.ma/wp-content/uploads/2025/06/...</td>\n",
              "    </tr>\n",
              "    <tr>\n",
              "      <th>5</th>\n",
              "      <td>كانو غادي يتهربو ويتباعو داخل المغرب.. بوليس س...</td>\n",
              "      <td>كود – كازا ///\\nقال موقع راديو وتلفزيون سبتة، ...</td>\n",
              "      <td>https://sf.goud.ma/wp-content/uploads/2025/06/...</td>\n",
              "    </tr>\n",
              "  </tbody>\n",
              "</table>\n",
              "</div>\n",
              "    <div class=\"colab-df-buttons\">\n",
              "\n",
              "  <div class=\"colab-df-container\">\n",
              "    <button class=\"colab-df-convert\" onclick=\"convertToInteractive('df-007d41ed-2cb2-48c2-ab20-e255f0eaea7e')\"\n",
              "            title=\"Convert this dataframe to an interactive table.\"\n",
              "            style=\"display:none;\">\n",
              "\n",
              "  <svg xmlns=\"http://www.w3.org/2000/svg\" height=\"24px\" viewBox=\"0 -960 960 960\">\n",
              "    <path d=\"M120-120v-720h720v720H120Zm60-500h600v-160H180v160Zm220 220h160v-160H400v160Zm0 220h160v-160H400v160ZM180-400h160v-160H180v160Zm440 0h160v-160H620v160ZM180-180h160v-160H180v160Zm440 0h160v-160H620v160Z\"/>\n",
              "  </svg>\n",
              "    </button>\n",
              "\n",
              "  <style>\n",
              "    .colab-df-container {\n",
              "      display:flex;\n",
              "      gap: 12px;\n",
              "    }\n",
              "\n",
              "    .colab-df-convert {\n",
              "      background-color: #E8F0FE;\n",
              "      border: none;\n",
              "      border-radius: 50%;\n",
              "      cursor: pointer;\n",
              "      display: none;\n",
              "      fill: #1967D2;\n",
              "      height: 32px;\n",
              "      padding: 0 0 0 0;\n",
              "      width: 32px;\n",
              "    }\n",
              "\n",
              "    .colab-df-convert:hover {\n",
              "      background-color: #E2EBFA;\n",
              "      box-shadow: 0px 1px 2px rgba(60, 64, 67, 0.3), 0px 1px 3px 1px rgba(60, 64, 67, 0.15);\n",
              "      fill: #174EA6;\n",
              "    }\n",
              "\n",
              "    .colab-df-buttons div {\n",
              "      margin-bottom: 4px;\n",
              "    }\n",
              "\n",
              "    [theme=dark] .colab-df-convert {\n",
              "      background-color: #3B4455;\n",
              "      fill: #D2E3FC;\n",
              "    }\n",
              "\n",
              "    [theme=dark] .colab-df-convert:hover {\n",
              "      background-color: #434B5C;\n",
              "      box-shadow: 0px 1px 3px 1px rgba(0, 0, 0, 0.15);\n",
              "      filter: drop-shadow(0px 1px 2px rgba(0, 0, 0, 0.3));\n",
              "      fill: #FFFFFF;\n",
              "    }\n",
              "  </style>\n",
              "\n",
              "    <script>\n",
              "      const buttonEl =\n",
              "        document.querySelector('#df-007d41ed-2cb2-48c2-ab20-e255f0eaea7e button.colab-df-convert');\n",
              "      buttonEl.style.display =\n",
              "        google.colab.kernel.accessAllowed ? 'block' : 'none';\n",
              "\n",
              "      async function convertToInteractive(key) {\n",
              "        const element = document.querySelector('#df-007d41ed-2cb2-48c2-ab20-e255f0eaea7e');\n",
              "        const dataTable =\n",
              "          await google.colab.kernel.invokeFunction('convertToInteractive',\n",
              "                                                    [key], {});\n",
              "        if (!dataTable) return;\n",
              "\n",
              "        const docLinkHtml = 'Like what you see? Visit the ' +\n",
              "          '<a target=\"_blank\" href=https://colab.research.google.com/notebooks/data_table.ipynb>data table notebook</a>'\n",
              "          + ' to learn more about interactive tables.';\n",
              "        element.innerHTML = '';\n",
              "        dataTable['output_type'] = 'display_data';\n",
              "        await google.colab.output.renderOutput(dataTable, element);\n",
              "        const docLink = document.createElement('div');\n",
              "        docLink.innerHTML = docLinkHtml;\n",
              "        element.appendChild(docLink);\n",
              "      }\n",
              "    </script>\n",
              "  </div>\n",
              "\n",
              "\n",
              "    <div id=\"df-49b3bb49-eb54-445c-b35d-1341664f76f4\">\n",
              "      <button class=\"colab-df-quickchart\" onclick=\"quickchart('df-49b3bb49-eb54-445c-b35d-1341664f76f4')\"\n",
              "                title=\"Suggest charts\"\n",
              "                style=\"display:none;\">\n",
              "\n",
              "<svg xmlns=\"http://www.w3.org/2000/svg\" height=\"24px\"viewBox=\"0 0 24 24\"\n",
              "     width=\"24px\">\n",
              "    <g>\n",
              "        <path d=\"M19 3H5c-1.1 0-2 .9-2 2v14c0 1.1.9 2 2 2h14c1.1 0 2-.9 2-2V5c0-1.1-.9-2-2-2zM9 17H7v-7h2v7zm4 0h-2V7h2v10zm4 0h-2v-4h2v4z\"/>\n",
              "    </g>\n",
              "</svg>\n",
              "      </button>\n",
              "\n",
              "<style>\n",
              "  .colab-df-quickchart {\n",
              "      --bg-color: #E8F0FE;\n",
              "      --fill-color: #1967D2;\n",
              "      --hover-bg-color: #E2EBFA;\n",
              "      --hover-fill-color: #174EA6;\n",
              "      --disabled-fill-color: #AAA;\n",
              "      --disabled-bg-color: #DDD;\n",
              "  }\n",
              "\n",
              "  [theme=dark] .colab-df-quickchart {\n",
              "      --bg-color: #3B4455;\n",
              "      --fill-color: #D2E3FC;\n",
              "      --hover-bg-color: #434B5C;\n",
              "      --hover-fill-color: #FFFFFF;\n",
              "      --disabled-bg-color: #3B4455;\n",
              "      --disabled-fill-color: #666;\n",
              "  }\n",
              "\n",
              "  .colab-df-quickchart {\n",
              "    background-color: var(--bg-color);\n",
              "    border: none;\n",
              "    border-radius: 50%;\n",
              "    cursor: pointer;\n",
              "    display: none;\n",
              "    fill: var(--fill-color);\n",
              "    height: 32px;\n",
              "    padding: 0;\n",
              "    width: 32px;\n",
              "  }\n",
              "\n",
              "  .colab-df-quickchart:hover {\n",
              "    background-color: var(--hover-bg-color);\n",
              "    box-shadow: 0 1px 2px rgba(60, 64, 67, 0.3), 0 1px 3px 1px rgba(60, 64, 67, 0.15);\n",
              "    fill: var(--button-hover-fill-color);\n",
              "  }\n",
              "\n",
              "  .colab-df-quickchart-complete:disabled,\n",
              "  .colab-df-quickchart-complete:disabled:hover {\n",
              "    background-color: var(--disabled-bg-color);\n",
              "    fill: var(--disabled-fill-color);\n",
              "    box-shadow: none;\n",
              "  }\n",
              "\n",
              "  .colab-df-spinner {\n",
              "    border: 2px solid var(--fill-color);\n",
              "    border-color: transparent;\n",
              "    border-bottom-color: var(--fill-color);\n",
              "    animation:\n",
              "      spin 1s steps(1) infinite;\n",
              "  }\n",
              "\n",
              "  @keyframes spin {\n",
              "    0% {\n",
              "      border-color: transparent;\n",
              "      border-bottom-color: var(--fill-color);\n",
              "      border-left-color: var(--fill-color);\n",
              "    }\n",
              "    20% {\n",
              "      border-color: transparent;\n",
              "      border-left-color: var(--fill-color);\n",
              "      border-top-color: var(--fill-color);\n",
              "    }\n",
              "    30% {\n",
              "      border-color: transparent;\n",
              "      border-left-color: var(--fill-color);\n",
              "      border-top-color: var(--fill-color);\n",
              "      border-right-color: var(--fill-color);\n",
              "    }\n",
              "    40% {\n",
              "      border-color: transparent;\n",
              "      border-right-color: var(--fill-color);\n",
              "      border-top-color: var(--fill-color);\n",
              "    }\n",
              "    60% {\n",
              "      border-color: transparent;\n",
              "      border-right-color: var(--fill-color);\n",
              "    }\n",
              "    80% {\n",
              "      border-color: transparent;\n",
              "      border-right-color: var(--fill-color);\n",
              "      border-bottom-color: var(--fill-color);\n",
              "    }\n",
              "    90% {\n",
              "      border-color: transparent;\n",
              "      border-bottom-color: var(--fill-color);\n",
              "    }\n",
              "  }\n",
              "</style>\n",
              "\n",
              "      <script>\n",
              "        async function quickchart(key) {\n",
              "          const quickchartButtonEl =\n",
              "            document.querySelector('#' + key + ' button');\n",
              "          quickchartButtonEl.disabled = true;  // To prevent multiple clicks.\n",
              "          quickchartButtonEl.classList.add('colab-df-spinner');\n",
              "          try {\n",
              "            const charts = await google.colab.kernel.invokeFunction(\n",
              "                'suggestCharts', [key], {});\n",
              "          } catch (error) {\n",
              "            console.error('Error during call to suggestCharts:', error);\n",
              "          }\n",
              "          quickchartButtonEl.classList.remove('colab-df-spinner');\n",
              "          quickchartButtonEl.classList.add('colab-df-quickchart-complete');\n",
              "        }\n",
              "        (() => {\n",
              "          let quickchartButtonEl =\n",
              "            document.querySelector('#df-49b3bb49-eb54-445c-b35d-1341664f76f4 button');\n",
              "          quickchartButtonEl.style.display =\n",
              "            google.colab.kernel.accessAllowed ? 'block' : 'none';\n",
              "        })();\n",
              "      </script>\n",
              "    </div>\n",
              "\n",
              "  <div id=\"id_c169b3cf-93ca-4234-9615-fc569a9b6e5d\">\n",
              "    <style>\n",
              "      .colab-df-generate {\n",
              "        background-color: #E8F0FE;\n",
              "        border: none;\n",
              "        border-radius: 50%;\n",
              "        cursor: pointer;\n",
              "        display: none;\n",
              "        fill: #1967D2;\n",
              "        height: 32px;\n",
              "        padding: 0 0 0 0;\n",
              "        width: 32px;\n",
              "      }\n",
              "\n",
              "      .colab-df-generate:hover {\n",
              "        background-color: #E2EBFA;\n",
              "        box-shadow: 0px 1px 2px rgba(60, 64, 67, 0.3), 0px 1px 3px 1px rgba(60, 64, 67, 0.15);\n",
              "        fill: #174EA6;\n",
              "      }\n",
              "\n",
              "      [theme=dark] .colab-df-generate {\n",
              "        background-color: #3B4455;\n",
              "        fill: #D2E3FC;\n",
              "      }\n",
              "\n",
              "      [theme=dark] .colab-df-generate:hover {\n",
              "        background-color: #434B5C;\n",
              "        box-shadow: 0px 1px 3px 1px rgba(0, 0, 0, 0.15);\n",
              "        filter: drop-shadow(0px 1px 2px rgba(0, 0, 0, 0.3));\n",
              "        fill: #FFFFFF;\n",
              "      }\n",
              "    </style>\n",
              "    <button class=\"colab-df-generate\" onclick=\"generateWithVariable('df')\"\n",
              "            title=\"Generate code using this dataframe.\"\n",
              "            style=\"display:none;\">\n",
              "\n",
              "  <svg xmlns=\"http://www.w3.org/2000/svg\" height=\"24px\"viewBox=\"0 0 24 24\"\n",
              "       width=\"24px\">\n",
              "    <path d=\"M7,19H8.4L18.45,9,17,7.55,7,17.6ZM5,21V16.75L18.45,3.32a2,2,0,0,1,2.83,0l1.4,1.43a1.91,1.91,0,0,1,.58,1.4,1.91,1.91,0,0,1-.58,1.4L9.25,21ZM18.45,9,17,7.55Zm-12,3A5.31,5.31,0,0,0,4.9,8.1,5.31,5.31,0,0,0,1,6.5,5.31,5.31,0,0,0,4.9,4.9,5.31,5.31,0,0,0,6.5,1,5.31,5.31,0,0,0,8.1,4.9,5.31,5.31,0,0,0,12,6.5,5.46,5.46,0,0,0,6.5,12Z\"/>\n",
              "  </svg>\n",
              "    </button>\n",
              "    <script>\n",
              "      (() => {\n",
              "      const buttonEl =\n",
              "        document.querySelector('#id_c169b3cf-93ca-4234-9615-fc569a9b6e5d button.colab-df-generate');\n",
              "      buttonEl.style.display =\n",
              "        google.colab.kernel.accessAllowed ? 'block' : 'none';\n",
              "\n",
              "      buttonEl.onclick = () => {\n",
              "        google.colab.notebook.generateWithVariable('df');\n",
              "      }\n",
              "      })();\n",
              "    </script>\n",
              "  </div>\n",
              "\n",
              "    </div>\n",
              "  </div>\n"
            ],
            "text/plain": [
              "                                              titles  \\\n",
              "0  الناطق باسم الحكومة الموريتانية تجاهل إدانة ال...   \n",
              "1  الكاتب العام السابق للوداد رد على بلاغ تطوان ض...   \n",
              "2  عودة غياث للمكتب السياسي للأحرار.. قيادي إكس ب...   \n",
              "3  المغرب التطواني كاعيين حيث الهجهوج مشى ميريكان...   \n",
              "4  المحامية الحقوقية براهمة لـ”كود”: دورية رئاسة ...   \n",
              "5  كانو غادي يتهربو ويتباعو داخل المغرب.. بوليس س...   \n",
              "\n",
              "                                             content  \\\n",
              "0  الوالي الزاز -كود- العيون////\\n[email protecte...   \n",
              "1  كود سبور//\\nانتقد الكاتب العام السابق للوداد ا...   \n",
              "2  كود الرباط //\\nعلمت “كود” من مصادر موثوقة أن م...   \n",
              "3  كود سبور//\\nكاعيين المغرب التطواني على لاعب ال...   \n",
              "4  سعيد الشاوي – كود ///\\nصيفط هشام بلاوي، الوكيل...   \n",
              "5  كود – كازا ///\\nقال موقع راديو وتلفزيون سبتة، ...   \n",
              "\n",
              "                                              images  \n",
              "0  https://sf.goud.ma/wp-content/uploads/2025/06/...  \n",
              "1  https://sf.goud.ma/wp-content/uploads/2025/06/...  \n",
              "2  https://sf.goud.ma/wp-content/uploads/2025/06/...  \n",
              "3  https://sf.goud.ma/wp-content/uploads/2025/06/...  \n",
              "4  https://sf.goud.ma/wp-content/uploads/2025/06/...  \n",
              "5  https://sf.goud.ma/wp-content/uploads/2025/06/...  "
            ]
          },
          "execution_count": 13,
          "metadata": {},
          "output_type": "execute_result"
        }
      ],
      "source": [
        "import pandas as pd\n",
        "df=pd.DataFrame(data)\n",
        "df"
      ]
    },
    {
      "cell_type": "markdown",
      "metadata": {
        "id": "KseCZTjBBrqM"
      },
      "source": [
        "* The step of scraping is finished ... ✅\n",
        "\n",
        "## Push scraped dataset to HuggingFace\n",
        "* Now we will push our scrapped dataset to huggingface 🤗 as the last step"
      ]
    },
    {
      "cell_type": "code",
      "execution_count": 14,
      "metadata": {
        "id": "IEfW3it9BdzA"
      },
      "outputs": [],
      "source": [
        "! pip install datasets -q # install datasets by hf"
      ]
    },
    {
      "cell_type": "code",
      "execution_count": null,
      "metadata": {
        "colab": {
          "base_uri": "https://localhost:8080/",
          "height": 460
        },
        "collapsed": true,
        "id": "aAKgtv2LCf-j",
        "outputId": "48652e05-5324-4e4e-f842-48b7550666ad"
      },
      "outputs": [],
      "source": [
        "from datasets import Dataset\n",
        "HF_WRITE_TOKEN=\"\" # your hf write token\n",
        "HF_DATASET_REPO=\"atlasia/good25\" # username/datasetname\n",
        "ds=Dataset.from_pandas(df)\n",
        "ds.push_to_hub(HF_DATASET_REPO,token=HF_WRITE_TOKEN)"
      ]
    },
    {
      "cell_type": "code",
      "execution_count": null,
      "metadata": {
        "id": "jIRm__kiBncH"
      },
      "outputs": [],
      "source": []
    }
  ],
  "metadata": {
    "colab": {
      "provenance": []
    },
    "kernelspec": {
      "display_name": "Python 3 (ipykernel)",
      "language": "python",
      "name": "python3"
    },
    "language_info": {
      "codemirror_mode": {
        "name": "ipython",
        "version": 3
      },
      "file_extension": ".py",
      "mimetype": "text/x-python",
      "name": "python",
      "nbconvert_exporter": "python",
      "pygments_lexer": "ipython3",
      "version": "3.10.13"
    }
  },
  "nbformat": 4,
  "nbformat_minor": 0
}
